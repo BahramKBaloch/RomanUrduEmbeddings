{
 "cells": [
  {
   "cell_type": "markdown",
   "metadata": {
    "id": "OJqHY7v8OZ7K"
   },
   "source": [
    "# Training embeddings for roman Urdu\n",
    "\n",
    "### dataset was collected from multiple sources and scrapped as well\n",
    "\n",
    "#### Special thanks to Hamza Khan for providing some of twitter data\n",
    "\n",
    "### Repo: https://github.com/BahramKBaloch/RomanUrduEmbeddings"
   ]
  },
  {
   "cell_type": "code",
   "execution_count": null,
   "metadata": {
    "colab": {
     "base_uri": "https://localhost:8080/"
    },
    "id": "gCjQGgCB0llt",
    "outputId": "b96141c3-88b3-45c1-9cdb-c2cf425dc5c1"
   },
   "outputs": [
    {
     "name": "stdout",
     "output_type": "stream",
     "text": [
      "Cloning into 'fastText'...\n",
      "remote: Enumerating objects: 3854, done.\u001b[K\n",
      "remote: Total 3854 (delta 0), reused 0 (delta 0), pack-reused 3854\u001b[K\n",
      "Receiving objects: 100% (3854/3854), 8.23 MiB | 33.03 MiB/s, done.\n",
      "Resolving deltas: 100% (2416/2416), done.\n"
     ]
    }
   ],
   "source": [
    "!git clone https://github.com/facebookresearch/fastText.git"
   ]
  },
  {
   "cell_type": "code",
   "execution_count": null,
   "metadata": {
    "colab": {
     "base_uri": "https://localhost:8080/"
    },
    "id": "R0rJ4RQm0rcq",
    "outputId": "e3ab8dfc-0cd6-4cf0-bee0-f2f3d312a336"
   },
   "outputs": [
    {
     "name": "stdout",
     "output_type": "stream",
     "text": [
      "/content/fastText\n"
     ]
    }
   ],
   "source": [
    "cd fastText"
   ]
  },
  {
   "cell_type": "code",
   "execution_count": null,
   "metadata": {
    "colab": {
     "base_uri": "https://localhost:8080/"
    },
    "id": "VFo4J-yy0rqs",
    "outputId": "242f87a2-b535-4219-f1bd-65c576a09300"
   },
   "outputs": [
    {
     "name": "stdout",
     "output_type": "stream",
     "text": [
      "Processing /content/fastText\n",
      "Requirement already satisfied: pybind11>=2.2 in /usr/local/lib/python3.6/dist-packages (from fasttext==0.9.2) (2.6.1)\n",
      "Requirement already satisfied: setuptools>=0.7.0 in /usr/local/lib/python3.6/dist-packages (from fasttext==0.9.2) (51.0.0)\n",
      "Requirement already satisfied: numpy in /usr/local/lib/python3.6/dist-packages (from fasttext==0.9.2) (1.19.4)\n",
      "Building wheels for collected packages: fasttext\n",
      "  Building wheel for fasttext (setup.py) ... \u001b[?25l\u001b[?25hdone\n",
      "  Created wheel for fasttext: filename=fasttext-0.9.2-cp36-cp36m-linux_x86_64.whl size=3033922 sha256=762dfbe8555d58e121f84eb7ed3e32f18d6169f959d1b20f654d502a8f1ec6b5\n",
      "  Stored in directory: /tmp/pip-ephem-wheel-cache-q69sxqso/wheels/a1/9f/52/696ce6c5c46325e840c76614ee5051458c0df10306987e7443\n",
      "Successfully built fasttext\n",
      "Installing collected packages: fasttext\n",
      "Successfully installed fasttext-0.9.2\n"
     ]
    }
   ],
   "source": [
    "!sudo pip install .\n",
    "# or :\n",
    "#!sudo python setup.py install"
   ]
  },
  {
   "cell_type": "code",
   "execution_count": null,
   "metadata": {
    "id": "rjy1VYBEzPyD"
   },
   "outputs": [],
   "source": [
    "!mkdir data"
   ]
  },
  {
   "cell_type": "markdown",
   "metadata": {
    "id": "XFFdCr28Opc9"
   },
   "source": [
    "If you endup using this data(isn't much though), do credit our repo.\n",
    "\n",
    "partial data was taken from https://archive.ics.uci.edu/ml/datasets/Roman+Urdu+Data+Set\n"
   ]
  },
  {
   "cell_type": "code",
   "execution_count": null,
   "metadata": {
    "colab": {
     "base_uri": "https://localhost:8080/"
    },
    "id": "2vD7ILDZXnRy",
    "outputId": "37426b1e-141a-4a3c-da0f-b087d7499f60"
   },
   "outputs": [
    {
     "name": "stdout",
     "output_type": "stream",
     "text": [
      "--2020-12-23 19:58:14--  https://raw.githubusercontent.com/BahramKBaloch/RomanUrduEmbeddings/main/roman-urdu-dataset.txt\n",
      "Resolving raw.githubusercontent.com (raw.githubusercontent.com)... 151.101.0.133, 151.101.64.133, 151.101.128.133, ...\n",
      "Connecting to raw.githubusercontent.com (raw.githubusercontent.com)|151.101.0.133|:443... connected.\n",
      "HTTP request sent, awaiting response... 200 OK\n",
      "Length: 2984917 (2.8M) [text/plain]\n",
      "Saving to: ‘data/roman-urdu-dataset.txt’\n",
      "\n",
      "roman-urdu-dataset. 100%[===================>]   2.85M  --.-KB/s    in 0.1s    \n",
      "\n",
      "2020-12-23 19:58:15 (19.9 MB/s) - ‘data/roman-urdu-dataset.txt’ saved [2984917/2984917]\n",
      "\n"
     ]
    }
   ],
   "source": [
    "!wget -c https://raw.githubusercontent.com/BahramKBaloch/RomanUrduEmbeddings/main/roman-urdu-dataset.txt -P data"
   ]
  },
  {
   "cell_type": "code",
   "execution_count": null,
   "metadata": {
    "colab": {
     "base_uri": "https://localhost:8080/"
    },
    "id": "DjTWdZBWWZlQ",
    "outputId": "4c744591-a2ff-4cd8-eb36-0ec4b66dac1b"
   },
   "outputs": [
    {
     "name": "stdout",
     "output_type": "stream",
     "text": [
      "Sai kha ya her kisi kay bus ki bat nhi hai lakin main ki hal kal bi Aj aur aj bi sirf Aus say bus\n",
      "sahi bt h\n",
      "Kya bt hai,\n",
      "Wah je wah\n",
      "Are wha kaya bat hai\n",
      "Wah kya baat likhi\n",
      "Wha Itni sari khubiya\n",
      "Itni khubiya\n",
      "Ya allah rehm farma hm sab pe or zalimo ko hidayat de ameen\n",
      "Please Everyone AllAh S.w.T ka naam hAmesha Bary Lawzo main Likha kary Wo he Zaat sUb say Bari Hey\n"
     ]
    }
   ],
   "source": [
    "!head data/roman-urdu-dataset.txt"
   ]
  },
  {
   "cell_type": "code",
   "execution_count": null,
   "metadata": {
    "id": "wZO5dI1t_8Du"
   },
   "outputs": [],
   "source": [
    "import pandas as pd\n",
    "import re\n",
    "df = pd.read_csv(\"data/roman-urdu-dataset.txt\", header=None, error_bad_lines=False, lineterminator='\\n')\n",
    "\n",
    "def clean_text(mystring):\n",
    "  return re.sub('[^A-Za-z0-9 ]+', '', str(mystring)) # you can do much more here\n",
    "  df[0] = df[0].astype(str)\n",
    "df[0] = df[0].apply(clean_text)\n",
    "df[0].to_csv(\"all.data\", sep='\\n', index=False, header=False)"
   ]
  },
  {
   "cell_type": "code",
   "execution_count": null,
   "metadata": {
    "colab": {
     "base_uri": "https://localhost:8080/"
    },
    "id": "CTdYG5QMVg2q",
    "outputId": "7d553db6-c86e-46fa-e1b4-483cf4a2cbb8"
   },
   "outputs": [
    {
     "data": {
      "text/plain": [
       "0        Sai kha ya her kisi kay bus ki bat nhi hai lak...\n",
       "1                                                sahi bt h\n",
       "2                                               Wah je wah\n",
       "3                                     Are wha kaya bat hai\n",
       "4                                       Wah kya baat likhi\n",
       "                               ...                        \n",
       "22309    Dar Haqeeqat Sahih Baat Yehi Hai Ke MardOAurat...\n",
       "22310                 Farq Ko Waazeh Karne Waali Rivaayaat\n",
       "22311    4 Hazrat Ibn Umar Rdh Farmaate hai ke  Rasoolu...\n",
       "22312    5 Ibne Umar Raz Se Marfooan Naqal Kiya Gaya Ha...\n",
       "22313                                                     \n",
       "Name: 0, Length: 22314, dtype: object"
      ]
     },
     "execution_count": 23,
     "metadata": {
      "tags": []
     },
     "output_type": "execute_result"
    }
   ],
   "source": [
    "df[0]"
   ]
  },
  {
   "cell_type": "code",
   "execution_count": null,
   "metadata": {
    "id": "CcFDf8BHzeoN"
   },
   "outputs": [],
   "source": [
    "import fasttext\n",
    "#model = fasttext.train_supervised(input='train.data', autotuneValidationFile='val.data')\n",
    "model = fasttext.train_unsupervised(input='data/roman-urdu-dataset.txt')"
   ]
  },
  {
   "cell_type": "code",
   "execution_count": null,
   "metadata": {
    "id": "r_aHaYrCzjYi"
   },
   "outputs": [],
   "source": [
    " model.save_model(\"romanUrduFastText.bin\")"
   ]
  },
  {
   "cell_type": "code",
   "execution_count": null,
   "metadata": {
    "colab": {
     "base_uri": "https://localhost:8080/"
    },
    "id": "jU7DpB35zqgl",
    "outputId": "6e1d0aa1-2c2d-4b77-dbaf-d854c26aac84"
   },
   "outputs": [
    {
     "data": {
      "text/plain": [
       "11708"
      ]
     },
     "execution_count": 26,
     "metadata": {
      "tags": []
     },
     "output_type": "execute_result"
    }
   ],
   "source": [
    "len(model.words)"
   ]
  },
  {
   "cell_type": "code",
   "execution_count": null,
   "metadata": {
    "colab": {
     "base_uri": "https://localhost:8080/"
    },
    "id": "FICk6v5RC9dE",
    "outputId": "35166108-7416-472e-8a8d-169c7cc3baba"
   },
   "outputs": [
    {
     "data": {
      "text/plain": [
       "[(0.9726799726486206, 'chalta'),\n",
       " (0.9637318253517151, 'chalti'),\n",
       " (0.9594292044639587, 'chala'),\n",
       " (0.9570785164833069, 'chahye'),\n",
       " (0.9505370855331421, 'chahy'),\n",
       " (0.950450599193573, 'chah'),\n",
       " (0.9495114088058472, 'chata'),\n",
       " (0.9495059847831726, 'chalte'),\n",
       " (0.9495009779930115, 'chal'),\n",
       " (0.9473606944084167, 'chae')]"
      ]
     },
     "execution_count": 27,
     "metadata": {
      "tags": []
     },
     "output_type": "execute_result"
    }
   ],
   "source": [
    "model.get_nearest_neighbors(\"chalo\",10)  # definitely works "
   ]
  },
  {
   "cell_type": "code",
   "execution_count": null,
   "metadata": {
    "colab": {
     "base_uri": "https://localhost:8080/"
    },
    "id": "b8GPCBkVMd2K",
    "outputId": "cf0dc55d-c248-49f7-d61a-c2c6465235a5"
   },
   "outputs": [
    {
     "data": {
      "text/plain": [
       "[(0.9671486020088196, 'achaa'),\n",
       " (0.964830756187439, 'achha'),\n",
       " (0.9520477652549744, 'achcha'),\n",
       " (0.9457473754882812, 'acha.'),\n",
       " (0.9340360760688782, 'hoon.'),\n",
       " (0.9299879670143127, 'sacha'),\n",
       " (0.9247462749481201, 'bhe'),\n",
       " (0.9241460561752319, 'macha'),\n",
       " (0.9211732149124146, 'bacha'),\n",
       " (0.9184852242469788, 'iska')]"
      ]
     },
     "execution_count": 28,
     "metadata": {
      "tags": []
     },
     "output_type": "execute_result"
    }
   ],
   "source": [
    "model.get_nearest_neighbors(\"acha\",10)"
   ]
  },
  {
   "cell_type": "code",
   "execution_count": null,
   "metadata": {
    "colab": {
     "base_uri": "https://localhost:8080/"
    },
    "id": "-Rc3cobaMBaK",
    "outputId": "f3a1a67a-285b-40a3-d7bd-64f1bcd29e04"
   },
   "outputs": [
    {
     "data": {
      "text/plain": [
       "[(0.9654927253723145, 'yahi'),\n",
       " (0.9632030725479126, 'bahir'),\n",
       " (0.9627446532249451, 'nahi'),\n",
       " (0.9612342119216919, 'dahi'),\n",
       " (0.9611671566963196, 'yehi'),\n",
       " (0.9580084681510925, 'kbhi'),\n",
       " (0.9504194259643555, 'bhabhi'),\n",
       " (0.9504124522209167, 'wahi'),\n",
       " (0.9470223784446716, 'bhi'),\n",
       " (0.943434476852417, 'nahin')]"
      ]
     },
     "execution_count": 29,
     "metadata": {
      "tags": []
     },
     "output_type": "execute_result"
    }
   ],
   "source": [
    "model.get_nearest_neighbors(\"bahi\",10) # a not so good case"
   ]
  },
  {
   "cell_type": "markdown",
   "metadata": {
    "id": "4-g6jUODPY8v"
   },
   "source": [
    "## Intention behind this repo is just to give an example how to create embeddings for roman-urdu surely more data will be needed for better performance."
   ]
  },
  {
   "cell_type": "code",
   "execution_count": null,
   "metadata": {
    "id": "qjrneQIUMFAZ"
   },
   "outputs": [],
   "source": [
    "#load exisiting embeddings\n",
    "\n",
    "import fasttext\n",
    "loaded_model = fasttext.load_model(\"romanUrduFastText.bin\")"
   ]
  },
  {
   "cell_type": "code",
   "execution_count": null,
   "metadata": {
    "colab": {
     "base_uri": "https://localhost:8080/"
    },
    "id": "s2ZvCbSWRSXz",
    "outputId": "831fb016-c77a-41f7-d52d-1dc9e23ca305"
   },
   "outputs": [
    {
     "data": {
      "text/plain": [
       "[(0.9726799726486206, 'chalta'),\n",
       " (0.9637318253517151, 'chalti'),\n",
       " (0.9594292044639587, 'chala'),\n",
       " (0.9570785164833069, 'chahye'),\n",
       " (0.9505370855331421, 'chahy'),\n",
       " (0.950450599193573, 'chah'),\n",
       " (0.9495114088058472, 'chata'),\n",
       " (0.9495059847831726, 'chalte'),\n",
       " (0.9495009779930115, 'chal'),\n",
       " (0.9473606944084167, 'chae')]"
      ]
     },
     "execution_count": 32,
     "metadata": {
      "tags": []
     },
     "output_type": "execute_result"
    }
   ],
   "source": [
    "loaded_model.get_nearest_neighbors(\"chalo\",10)"
   ]
  },
  {
   "cell_type": "code",
   "execution_count": null,
   "metadata": {
    "id": "9YtWPBPmRXiR"
   },
   "outputs": [],
   "source": []
  }
 ],
 "metadata": {
  "colab": {
   "collapsed_sections": [],
   "name": "FastText Example Roman Urdu.ipynb",
   "provenance": [],
   "toc_visible": true
  },
  "kernelspec": {
   "display_name": "Python 3",
   "language": "python",
   "name": "python3"
  },
  "language_info": {
   "codemirror_mode": {
    "name": "ipython",
    "version": 3
   },
   "file_extension": ".py",
   "mimetype": "text/x-python",
   "name": "python",
   "nbconvert_exporter": "python",
   "pygments_lexer": "ipython3",
   "version": "3.8.3"
  }
 },
 "nbformat": 4,
 "nbformat_minor": 1
}
